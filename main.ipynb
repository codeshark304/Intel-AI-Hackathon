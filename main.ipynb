import pandas as pd
import numpy as np
from sklearn.model_selection import train_test_split
from sklearn.ensemble import RandomForestRegressor
from sklearn.metrics import mean_squared_error, r2_score
import matplotlib.pyplot as plt
import seaborn as sns
data = pd.read_csv('dataset.csv')
data.head()  
data.info()
data.dropna(inplace=True)

data = pd.get_dummies(data)
 
X = data.drop('CM', axis=1)
X = data.drop('DA', axis=1)
y = data['TMR']
X_train, X_test, y_train, y_test = train_test_split(X, y, test_size=0.2, random_state=42)
model = RandomForestRegressor(n_estimators=100, random_state=42)
model.fit(X_train, y_train)
y_pred = model.predict(X_test)


mse = mean_squared_error(y_test, y_pred)
r2 = r2_score(y_test, y_pred)

print(f"Mean Squared Error: {mse}")
print(f"R-squared: {r2}")

plt.scatter(y_test, y_pred)
plt.xlabel('Actual Miss Rate')
plt.ylabel('Predicted Miss Rate')
plt.title('Actual vs. Predicted Miss Rate')
plt.show()
